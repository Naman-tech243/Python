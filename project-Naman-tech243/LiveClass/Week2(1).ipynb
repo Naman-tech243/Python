{
 "cells": [
  {
   "cell_type": "code",
   "execution_count": null,
   "id": "57a98269",
   "metadata": {},
   "outputs": [],
   "source": []
  },
  {
   "cell_type": "code",
   "execution_count": null,
   "id": "14fda255",
   "metadata": {},
   "outputs": [
    {
     "name": "stdout",
     "output_type": "stream",
     "text": [
      "11\n"
     ]
    }
   ],
   "source": [
    "#Question 2:\n",
    "\n",
    "a=int(input(\"Enter a number:\"))\n",
    "b=int(input(\"Enter a number:\"))\n",
    "print(a+b)"
   ]
  },
  {
   "cell_type": "code",
   "execution_count": 40,
   "id": "1ba192eb",
   "metadata": {},
   "outputs": [
    {
     "name": "stdout",
     "output_type": "stream",
     "text": [
      "My name is hkjh and my age is 7 and my height is 7.0 cm\n"
     ]
    }
   ],
   "source": [
    "#Question 1:\n",
    "\n",
    "name=input(\"Enter your name: \")\n",
    "age=int(input(\"Enter your age:\"))\n",
    "height=float(input(\"Enter your height in cm\"))\n",
    "# print(\"My name is {} and my age is {} and my height is {} cm\".format(name,age,height))\n",
    "print(f\"My name is {name} and my age is {age} and my height is {height} cm\")\n"
   ]
  },
  {
   "cell_type": "markdown",
   "id": "de93e0a2",
   "metadata": {},
   "source": [
    "Loops"
   ]
  },
  {
   "cell_type": "code",
   "execution_count": 21,
   "id": "07be9334",
   "metadata": {},
   "outputs": [
    {
     "data": {
      "text/plain": [
       "[0, 1, 2, 3, 4, 5, 6, 7, 8, 9]"
      ]
     },
     "execution_count": 21,
     "metadata": {},
     "output_type": "execute_result"
    }
   ],
   "source": [
    "list(range(10))"
   ]
  },
  {
   "cell_type": "code",
   "execution_count": 22,
   "id": "5e663937",
   "metadata": {},
   "outputs": [
    {
     "name": "stdout",
     "output_type": "stream",
     "text": [
      "0\n",
      "1\n",
      "2\n",
      "3\n",
      "4\n"
     ]
    }
   ],
   "source": [
    "for i in range(5):\n",
    "    print(i)"
   ]
  },
  {
   "cell_type": "code",
   "execution_count": 23,
   "id": "f7e7eda1",
   "metadata": {},
   "outputs": [
    {
     "name": "stdout",
     "output_type": "stream",
     "text": [
      "Hello World\n",
      "Hello World\n",
      "Hello World\n",
      "Hello World\n"
     ]
    }
   ],
   "source": [
    "i=10\n",
    "while True:\n",
    "    print(\"Hello World\")\n",
    "    if i==13:\n",
    "        break #This will exit the loop\n",
    "    else:\n",
    "        i+=1 #Increase the value of i by 1"
   ]
  },
  {
   "cell_type": "markdown",
   "id": "6920b19c",
   "metadata": {},
   "source": [
    "Pyramid"
   ]
  },
  {
   "cell_type": "code",
   "execution_count": 31,
   "id": "66a7d4d3",
   "metadata": {},
   "outputs": [
    {
     "name": "stdout",
     "output_type": "stream",
     "text": [
      "\n",
      "*\n",
      "**\n",
      "***\n",
      "****\n",
      "*****\n"
     ]
    }
   ],
   "source": [
    "for i in range(6):\n",
    "    print(\"*\" * (i))"
   ]
  },
  {
   "cell_type": "code",
   "execution_count": 32,
   "id": "8d0447a9",
   "metadata": {},
   "outputs": [
    {
     "name": "stdout",
     "output_type": "stream",
     "text": [
      "******\n",
      "*****\n",
      "****\n",
      "***\n",
      "**\n",
      "*\n"
     ]
    }
   ],
   "source": [
    "max=6\n",
    "for i in range(max):\n",
    "    print(\"*\"*(max-i))"
   ]
  },
  {
   "cell_type": "code",
   "execution_count": 34,
   "id": "d5f0a582",
   "metadata": {},
   "outputs": [
    {
     "name": "stdout",
     "output_type": "stream",
     "text": [
      "          \n",
      "         *\n",
      "        ***\n",
      "       *****\n",
      "      *******\n",
      "     *********\n",
      "    ***********\n",
      "   *************\n",
      "  ***************\n",
      " *****************\n"
     ]
    }
   ],
   "source": [
    "max=10\n",
    "\n",
    "for i in range(max):\n",
    "    print(\" \"*(max-i)+\"*\"*(2*i-1))"
   ]
  },
  {
   "cell_type": "markdown",
   "id": "0e8555ee",
   "metadata": {},
   "source": [
    "Type Casting"
   ]
  },
  {
   "cell_type": "code",
   "execution_count": 17,
   "id": "5deccd47",
   "metadata": {},
   "outputs": [
    {
     "name": "stdout",
     "output_type": "stream",
     "text": [
      "Invalid input! Please enter a number:\n"
     ]
    }
   ],
   "source": [
    "x=\"5\"\n",
    "type(x)\n",
    "try:\n",
    "    age=int(input(\"Enter Your Age:\"))\n",
    "    type(age)\n",
    "except TypeError:\n",
    "    print(\"Invalid Input! Please enter a valid Number\")\n",
    "except ValueError:\n",
    "    print(\"Invalid input! Please enter a number:\")"
   ]
  },
  {
   "cell_type": "code",
   "execution_count": 18,
   "id": "486d130d",
   "metadata": {},
   "outputs": [
    {
     "data": {
      "text/plain": [
       "3"
      ]
     },
     "execution_count": 18,
     "metadata": {},
     "output_type": "execute_result"
    }
   ],
   "source": [
    "pi=3.14\n",
    "\n",
    "int(pi)"
   ]
  },
  {
   "cell_type": "code",
   "execution_count": 19,
   "id": "0913be80",
   "metadata": {},
   "outputs": [
    {
     "ename": "TypeError",
     "evalue": "'str' object cannot be interpreted as an integer",
     "output_type": "error",
     "traceback": [
      "\u001b[31m---------------------------------------------------------------------------\u001b[39m",
      "\u001b[31mTypeError\u001b[39m                                 Traceback (most recent call last)",
      "\u001b[36mCell\u001b[39m\u001b[36m \u001b[39m\u001b[32mIn[19]\u001b[39m\u001b[32m, line 3\u001b[39m\n\u001b[32m      1\u001b[39m a=\u001b[33m\"\u001b[39m\u001b[33m5\u001b[39m\u001b[33m\"\u001b[39m\n\u001b[32m      2\u001b[39m b=\u001b[33m\"\u001b[39m\u001b[33m6\u001b[39m\u001b[33m\"\u001b[39m\n\u001b[32m----> \u001b[39m\u001b[32m3\u001b[39m \u001b[38;5;28;43mint\u001b[39;49m\u001b[43m(\u001b[49m\u001b[43ma\u001b[49m\u001b[43m,\u001b[49m\u001b[43mb\u001b[49m\u001b[43m)\u001b[49m\n\u001b[32m      4\u001b[39m \u001b[38;5;28mprint\u001b[39m(a+b)\n",
      "\u001b[31mTypeError\u001b[39m: 'str' object cannot be interpreted as an integer"
     ]
    }
   ],
   "source": [
    "a=\"5\"\n",
    "b=\"6\"\n",
    "int(a,b)\n",
    "print(a+b)"
   ]
  },
  {
   "cell_type": "code",
   "execution_count": 14,
   "id": "6616d4c9",
   "metadata": {},
   "outputs": [
    {
     "name": "stdout",
     "output_type": "stream",
     "text": [
      "Can Drive:False\n",
      "Is Teenager:True\n"
     ]
    }
   ],
   "source": [
    "age= 14\n",
    "has_license= True\n",
    "\n",
    "print(f\"Can Drive:{age>=18 and has_license}\")\n",
    "\n",
    "print(f\"Is Teenager:{age>=13 and age<=19}\")"
   ]
  },
  {
   "cell_type": "code",
   "execution_count": 9,
   "id": "1a35045f",
   "metadata": {},
   "outputs": [
    {
     "name": "stdout",
     "output_type": "stream",
     "text": [
      "True\n",
      "False\n",
      "False\n",
      "True\n"
     ]
    }
   ],
   "source": [
    "a=10\n",
    "b=20\n",
    "\n",
    "print(a!=b)\n",
    "print(a==b)\n",
    "print(a>=b)\n",
    "print(a<=b)"
   ]
  },
  {
   "cell_type": "code",
   "execution_count": 8,
   "id": "3c7991fd",
   "metadata": {},
   "outputs": [
    {
     "name": "stdout",
     "output_type": "stream",
     "text": [
      "My College name is King's College and I joined in 2023\n"
     ]
    }
   ],
   "source": [
    "college_name=\"King's College\"\n",
    "yoe=2023\n",
    "\n",
    "print(\"My College name is {} and I joined in {}\".format(college_name,yoe))"
   ]
  },
  {
   "cell_type": "code",
   "execution_count": null,
   "id": "86f5e8c4",
   "metadata": {},
   "outputs": [
    {
     "name": "stdout",
     "output_type": "stream",
     "text": [
      "Naman\n"
     ]
    }
   ],
   "source": [
    "name=input(\"Enter your name: \")\n",
    "print(name)"
   ]
  }
 ],
 "metadata": {
  "kernelspec": {
   "display_name": "env",
   "language": "python",
   "name": "python3"
  },
  "language_info": {
   "codemirror_mode": {
    "name": "ipython",
    "version": 3
   },
   "file_extension": ".py",
   "mimetype": "text/x-python",
   "name": "python",
   "nbconvert_exporter": "python",
   "pygments_lexer": "ipython3",
   "version": "3.13.5"
  }
 },
 "nbformat": 4,
 "nbformat_minor": 5
}
