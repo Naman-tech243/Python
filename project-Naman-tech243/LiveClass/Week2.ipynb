{
 "cells": [
  {
   "cell_type": "code",
   "execution_count": 42,
   "id": "2311ec51",
   "metadata": {},
   "outputs": [],
   "source": [
    "def converter(Cels):\n",
    "    Frn= (Cels*9/5)+32\n",
    "    return Frn"
   ]
  },
  {
   "cell_type": "code",
   "execution_count": 43,
   "id": "e82b8661",
   "metadata": {},
   "outputs": [
    {
     "data": {
      "text/plain": [
       "212.0"
      ]
     },
     "execution_count": 43,
     "metadata": {},
     "output_type": "execute_result"
    }
   ],
   "source": [
    "converter(100)"
   ]
  },
  {
   "cell_type": "code",
   "execution_count": 39,
   "id": "5531636a",
   "metadata": {},
   "outputs": [],
   "source": [
    "def area(l,b):\n",
    "    Area=l*b\n",
    "    print(\"The area is\", Area)"
   ]
  },
  {
   "cell_type": "code",
   "execution_count": 40,
   "id": "54dec143",
   "metadata": {},
   "outputs": [
    {
     "name": "stdout",
     "output_type": "stream",
     "text": [
      "The area is 50\n"
     ]
    }
   ],
   "source": [
    "area(5, 10)"
   ]
  },
  {
   "cell_type": "code",
   "execution_count": 35,
   "id": "6413a894",
   "metadata": {},
   "outputs": [
    {
     "name": "stdout",
     "output_type": "stream",
     "text": [
      "Invalid input. Please enter a valid number\n"
     ]
    }
   ],
   "source": [
    "try:\n",
    "    number=int(input(\"Enter a number:\"))\n",
    "    type(number)\n",
    "except ValueError:\n",
    "    print(\"Invalid input. Please enter a valid number\")"
   ]
  },
  {
   "cell_type": "code",
   "execution_count": 32,
   "id": "d968b2ec",
   "metadata": {},
   "outputs": [
    {
     "data": {
      "text/plain": [
       "int"
      ]
     },
     "execution_count": 32,
     "metadata": {},
     "output_type": "execute_result"
    }
   ],
   "source": [
    "number=int(input(\"Enter a number:\"))\n",
    "type(number)"
   ]
  },
  {
   "cell_type": "code",
   "execution_count": 29,
   "id": "df1dd2d5",
   "metadata": {},
   "outputs": [
    {
     "name": "stdout",
     "output_type": "stream",
     "text": [
      "The Zen of Python, by Tim Peters\n",
      "\n",
      "Beautiful is better than ugly.\n",
      "Explicit is better than implicit.\n",
      "Simple is better than complex.\n",
      "Complex is better than complicated.\n",
      "Flat is better than nested.\n",
      "Sparse is better than dense.\n",
      "Readability counts.\n",
      "Special cases aren't special enough to break the rules.\n",
      "Although practicality beats purity.\n",
      "Errors should never pass silently.\n",
      "Unless explicitly silenced.\n",
      "In the face of ambiguity, refuse the temptation to guess.\n",
      "There should be one-- and preferably only one --obvious way to do it.\n",
      "Although that way may not be obvious at first unless you're Dutch.\n",
      "Now is better than never.\n",
      "Although never is often better than *right* now.\n",
      "If the implementation is hard to explain, it's a bad idea.\n",
      "If the implementation is easy to explain, it may be a good idea.\n",
      "Namespaces are one honking great idea -- let's do more of those!\n"
     ]
    }
   ],
   "source": [
    "import this"
   ]
  },
  {
   "cell_type": "code",
   "execution_count": 19,
   "id": "44b999e4",
   "metadata": {},
   "outputs": [
    {
     "name": "stdout",
     "output_type": "stream",
     "text": [
      "Collecting cowsay\n",
      "  Downloading cowsay-6.1-py3-none-any.whl.metadata (5.6 kB)\n",
      "Downloading cowsay-6.1-py3-none-any.whl (25 kB)\n",
      "Installing collected packages: cowsay\n",
      "Successfully installed cowsay-6.1\n",
      "Note: you may need to restart the kernel to use updated packages.\n"
     ]
    }
   ],
   "source": [
    "pip install cowsay"
   ]
  },
  {
   "cell_type": "code",
   "execution_count": 25,
   "id": "fb4d6045",
   "metadata": {},
   "outputs": [],
   "source": [
    "import cowsay\n",
    "\n",
    "cowsay.__doc__"
   ]
  },
  {
   "cell_type": "code",
   "execution_count": 22,
   "id": "45b1b6f3",
   "metadata": {},
   "outputs": [
    {
     "name": "stdout",
     "output_type": "stream",
     "text": [
      "  ____________________\n",
      "| Hello, I am a Dragon |\n",
      "  ====================\n",
      "                      \\\n",
      "                       \\\n",
      "                        \\\n",
      "                         \\\n",
      "                                               / \\\\  //\\\\\n",
      "                                |\\\\___/|      /   \\\\//  \\\\\\\\\n",
      "                                /0  0  \\\\__  /    //  | \\\\ \\\\\n",
      "                               /     /  \\\\/_/    //   |  \\\\  \\\\\n",
      "                               \\@_^_\\@'/   \\\\/_   //    |   \\\\   \\\\\n",
      "                               //_^_/     \\\\/_ //     |    \\\\    \\\\\n",
      "                            ( //) |        \\\\///      |     \\\\     \\\\\n",
      "                          ( / /) _|_ /   )  //       |      \\\\     _\\\\\n",
      "                        ( // /) '/,_ _ _/  ( ; -.    |    _ _\\\\.-~        .-~~~^-.\n",
      "                      (( / / )) ,-{        _      `-.|.-~-.           .~         `.\n",
      "                     (( // / ))  '/\\\\      /                 ~-. _ .-~      .-~^-.  \\\\\n",
      "                     (( /// ))      `.   {            }                   /      \\\\  \\\\\n",
      "                      (( / ))     .----~-.\\\\        \\\\-'                 .~         \\\\  `. \\\\^-.\n",
      "                                 ///.----..>        \\\\             _ -~             `.  ^-`  ^-_\n",
      "                                   ///-._ _ _ _ _ _ _}^ - - - - ~                     ~-- ,.-~\n",
      "                                                                                      /.-~\n"
     ]
    }
   ],
   "source": [
    "import cowsay\n",
    "\n",
    "cowsay.dragon(\"Hello, I am a Dragon\")"
   ]
  },
  {
   "cell_type": "code",
   "execution_count": 16,
   "id": "522d0387",
   "metadata": {},
   "outputs": [
    {
     "name": "stdout",
     "output_type": "stream",
     "text": [
      "My name is Naman Marwadi and my age is 20\n",
      "Name: Naman Marwadi, \n",
      "Age: 20\n"
     ]
    },
    {
     "data": {
      "text/plain": [
       "'This is a dusting which gives\\nmulti line which gives multi line string \\nwhich is continued till here'"
      ]
     },
     "execution_count": 16,
     "metadata": {},
     "output_type": "execute_result"
    }
   ],
   "source": [
    "name= \"Naman Marwadi\"\n",
    "age = 20\n",
    "print(\"My name is\", name, \"and my age is\", age)\n",
    "print(f\"Name: {name}, \\nAge: {age}\")\n",
    "\n",
    "# This is a comment in which ctrl+\\ is shortcut after message written\n",
    "\"\"\"This is a dusting which gives\n",
    "multi line which gives multi line string \n",
    "which is continued till here\"\"\""
   ]
  },
  {
   "cell_type": "code",
   "execution_count": null,
   "id": "047a05ae",
   "metadata": {},
   "outputs": [
    {
     "name": "stdout",
     "output_type": "stream",
     "text": [
      "x is greater than 5\n"
     ]
    }
   ],
   "source": [
    "x= 6\n",
    "if x>5:\n",
    "    print(\"x is greater than 5\")\n",
    "elif x==5:\n",
    "    print(\"x is 5\")\n",
    "else:\n",
    "    print(\"x is smaller than 5\")"
   ]
  },
  {
   "cell_type": "code",
   "execution_count": null,
   "id": "2db549f1",
   "metadata": {},
   "outputs": [
    {
     "name": "stdout",
     "output_type": "stream",
     "text": [
      "14.5\n",
      "0.5\n",
      "87.5\n",
      "2.0\n",
      "2\n",
      "78125\n"
     ]
    }
   ],
   "source": [
    "\n",
    "a= 5\n",
    "b= 2.5\n",
    "c= 7\n",
    "print(a+b+c) #Addition\n",
    "print(a+b-c) #subtraction\n",
    "print(a*b*c) # Multiplication\n",
    "print(a/b) # Division\n",
    "print(c%a) # Remainder\n",
    "print(a**c) # Power"
   ]
  },
  {
   "cell_type": "code",
   "execution_count": 5,
   "id": "9560b11e",
   "metadata": {},
   "outputs": [
    {
     "name": "stdout",
     "output_type": "stream",
     "text": [
      "This is a Universal Message\n"
     ]
    }
   ],
   "source": [
    "print(\"This is a Universal Message\")"
   ]
  }
 ],
 "metadata": {
  "kernelspec": {
   "display_name": "env",
   "language": "python",
   "name": "python3"
  },
  "language_info": {
   "codemirror_mode": {
    "name": "ipython",
    "version": 3
   },
   "file_extension": ".py",
   "mimetype": "text/x-python",
   "name": "python",
   "nbconvert_exporter": "python",
   "pygments_lexer": "ipython3",
   "version": "3.13.5"
  }
 },
 "nbformat": 4,
 "nbformat_minor": 5
}
