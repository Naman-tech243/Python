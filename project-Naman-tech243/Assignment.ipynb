{
 "cells": [
  {
   "cell_type": "code",
   "execution_count": null,
   "id": "38300e0b",
   "metadata": {},
   "outputs": [
    {
     "name": "stdout",
     "output_type": "stream",
     "text": [
      "The number is odd\n"
     ]
    }
   ],
   "source": [
    "# Question 1: Write a program that checks whether a number entered by the user is even or odd.\n",
    "\n",
    "a=int(input(\"Please enter a number\"))\n",
    "if (a%2==0):\n",
    "    print(\"The number is Even\")\n",
    "else:\n",
    "    print(\"The number is odd\")"
   ]
  },
  {
   "cell_type": "code",
   "execution_count": 2,
   "id": "64a525da",
   "metadata": {},
   "outputs": [
    {
     "name": "stdout",
     "output_type": "stream",
     "text": [
      "The sum of 1 to 100 is: 5050\n"
     ]
    }
   ],
   "source": [
    "# Question 2: Use a for loop to find the sum of numbers from 1 to 100.\n",
    "\n",
    "sum=0\n",
    "\n",
    "for i in range(1,101):\n",
    "    sum+=i\n",
    "print(\"The sum of 1 to 100 is:\",sum)"
   ]
  }
 ],
 "metadata": {
  "kernelspec": {
   "display_name": "env",
   "language": "python",
   "name": "python3"
  },
  "language_info": {
   "codemirror_mode": {
    "name": "ipython",
    "version": 3
   },
   "file_extension": ".py",
   "mimetype": "text/x-python",
   "name": "python",
   "nbconvert_exporter": "python",
   "pygments_lexer": "ipython3",
   "version": "3.13.5"
  }
 },
 "nbformat": 4,
 "nbformat_minor": 5
}
