{
 "cells": [
  {
   "cell_type": "code",
   "execution_count": null,
   "id": "663cd116",
   "metadata": {
    "vscode": {
     "languageId": "plaintext"
    }
   },
   "outputs": [],
   "source": []
  },
  {
   "cell_type": "markdown",
   "id": "fa8313f8",
   "metadata": {},
   "source": [
    "Conditional Structures"
   ]
  },
  {
   "cell_type": "code",
   "execution_count": null,
   "id": "a576a577",
   "metadata": {},
   "outputs": [],
   "source": []
  }
 ],
 "metadata": {
  "language_info": {
   "name": "python"
  }
 },
 "nbformat": 4,
 "nbformat_minor": 5
}
